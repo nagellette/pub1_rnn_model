{
 "cells": [
  {
   "cell_type": "markdown",
   "metadata": {},
   "source": [
    "**Imports**"
   ]
  },
  {
   "cell_type": "code",
   "execution_count": 1,
   "metadata": {},
   "outputs": [],
   "source": [
    "import os\n",
    "import gdal\n",
    "import numpy as np\n",
    "import batch_feeder as bf\n",
    "from tensorflow.python import keras\n",
    "from tensorflow.python.keras.layers import Dense, Flatten\n",
    "from tensorflow.python.keras.layers import Conv2D, MaxPooling2D\n",
    "from tensorflow.python.keras.models import Sequential\n",
    "import support_functions as sf\n",
    "import matplotlib.pyplot as plt\n",
    "\n",
    "cwd = os.getcwd()"
   ]
  },
  {
   "cell_type": "markdown",
   "metadata": {},
   "source": [
    "**File lists and feature types definition**"
   ]
  },
  {
   "cell_type": "code",
   "execution_count": 2,
   "metadata": {},
   "outputs": [],
   "source": [
    "## input file list\n",
    "file_list = [\"SAR_5m_amplitude_vv.tif\",\n",
    "             \"SAR_5m_amplitude_vh.tif\",\n",
    "             \"SAR_5m_intensity_vv.tif\",\n",
    "             \"SAR_5m_intensity_vh.tif\",\n",
    "             \"sentinel_B02_5m.tif\",\n",
    "             \"sentinel_B03_5m.tif\",\n",
    "             \"sentinel_B04_5m.tif\",\n",
    "             \"sentinel_B08_5m.tif\",\n",
    "             \"probe_aggregated_trajectory_count.tif\",\n",
    "             \"probe_aggregated_speed_avg.tif\",\n",
    "             \"_bejing_full_projected_labels.tif\"]\n",
    "\n",
    "## raster values definition list\n",
    "file_list_types = [\"sar\",\n",
    "                   \"sar\",\n",
    "                   \"sar\",\n",
    "                   \"sar\",\n",
    "                   \"MSI\",\n",
    "                   \"MSI\",\n",
    "                   \"MSI\",\n",
    "                   \"MSI\",\n",
    "                   \"count\",\n",
    "                   \"average_speed\",\n",
    "                   \"label\"]"
   ]
  },
  {
   "cell_type": "markdown",
   "metadata": {},
   "source": [
    "**Raster read function and pre-processing**\n",
    "* Replace no data with 0\n",
    "* Replace nan values with 0\n",
    "* Replace subzero values with 0 (check further for GPS data preperation stage related errors)\n",
    "* Remove outliers from MSI data (10000 as upper bound as per specs)\n",
    "* Remove outliers from SAR data (2<sup>16</sup> as upper boundsd as per specs)\n",
    "* Scale MSI and SAR DNs with 0 to upper bound."
   ]
  },
  {
   "cell_type": "code",
   "execution_count": 18,
   "metadata": {},
   "outputs": [],
   "source": [
    "## raster reader function TODO: add coordinate system getters\n",
    "def read_raster(file_path, image_type):\n",
    "    print(file_path)\n",
    "    raster_file = gdal.Open(file_path)\n",
    "    raster_np = raster_file.GetRasterBand(1).ReadAsArray()\n",
    "    raster_geo = raster_file.GetGeoTransform()\n",
    "\n",
    "    # close the raster file to free the memory\n",
    "    raster_file = None\n",
    "        \n",
    "    # replace no data values with zero\n",
    "    raster_np[raster_np == -9999.0] = 0.0\n",
    "    \n",
    "    # values before pre-processing\n",
    "    print(\"Before pre-processing:\")\n",
    "    print(\"Mean: {0:2.2f}, Median {1:2.2f}, Std: {2:2.2f}, Min: {3:2.2f}, Max: {4:2.2f}\".format(\n",
    "        np.mean(raster_np), np.median(raster_np), np.std(raster_np), np.min(raster_np), np.max(raster_np)))\n",
    "\n",
    "    # process input values\n",
    "    # replace NaNs with zero\n",
    "    raster_np[np.isnan(raster_np)] = 0.0\n",
    "    \n",
    "    # replace subzero values with zero\n",
    "    raster_np[raster_np < 0] = 0.0\n",
    "\n",
    "    # convert data type to float\n",
    "    raster_np = raster_np.astype(np.float64)\n",
    "\n",
    "    #replace outliers of SAR product\n",
    "    if (image_type == 'sar'):\n",
    "        raster_np[raster_np > 65536.0] = 65536.0\n",
    "        raster_np = raster_np / 65536.00\n",
    "\n",
    "    # replace outliers of MSI product\n",
    "    if(image_type == 'MSI'):\n",
    "        raster_np[raster_np > 10000.0] = 10000.0\n",
    "        raster_np = raster_np / 10000.0\n",
    "        \n",
    "    # remove inconsistend average speed values\n",
    "    if(image_type == 'average_speed'):\n",
    "        raster_np[raster_np > 180] = 180.0 \n",
    "    \n",
    "    # min-max normalisation of rest of the layers\n",
    "    if(image_type != 'sar' and image_type != 'MSI' and image_type != 'labels'):\n",
    "        raster_np = (raster_np - np.min(raster_np)) / (np.max(raster_np) - np.min(raster_np))\n",
    "\n",
    "    # return raster as numpy array and geo transformation parameters\n",
    "    return raster_np, raster_geo\n"
   ]
  },
  {
   "cell_type": "markdown",
   "metadata": {},
   "source": [
    "**Read raster files**"
   ]
  },
  {
   "cell_type": "code",
   "execution_count": 19,
   "metadata": {},
   "outputs": [
    {
     "name": "stdout",
     "output_type": "stream",
     "text": [
      "Reading file: SAR_5m_amplitude_vv.tif\n",
      "/home/nagellette-ws/negengec_code/pub1_rnn_model/data/SAR_5m_amplitude_vv.tif\n",
      "Before pre-processing:\n",
      "Mean: 301.34, Median 224.28, Std: 325.74, Min: 0.00, Max: 55611.90\n",
      "After pre-processing:\n",
      "Mean: 0.00, Median 0.00, Std: 0.00, Min: 0.00, Max: 0.85\n"
     ]
    },
    {
     "data": {
      "image/png": "[encoded data removed]",
      "text/plain": [
       "<Figure size 432x288 with 1 Axes>"
      ]
     },
     "metadata": {
      "needs_background": "light"
     },
     "output_type": "display_data"
    },
    {
     "name": "stdout",
     "output_type": "stream",
     "text": [
      "Reading file: SAR_5m_amplitude_vh.tif\n",
      "/home/nagellette-ws/negengec_code/pub1_rnn_model/data/SAR_5m_amplitude_vh.tif\n",
      "Before pre-processing:\n",
      "Mean: 117.92, Median 99.60, Std: 96.23, Min: 0.00, Max: 26977.45\n",
      "After pre-processing:\n",
      "Mean: 0.00, Median 0.00, Std: 0.00, Min: 0.00, Max: 0.41\n"
     ]
    },
    {
     "data": {
      "image/png": "[encoded data removed]",
      "text/plain": [
       "<Figure size 432x288 with 1 Axes>"
      ]
     },
     "metadata": {
      "needs_background": "light"
     },
     "output_type": "display_data"
    },
    {
     "name": "stdout",
     "output_type": "stream",
     "text": [
      "Reading file: SAR_5m_intensity_vv.tif\n",
      "/home/nagellette-ws/negengec_code/pub1_rnn_model/data/SAR_5m_intensity_vv.tif\n",
      "Before pre-processing:\n",
      "Mean: 207363.06, Median 51598.26, Std: 3069233.25, Min: 0.00, Max: 3124039936.00\n",
      "After pre-processing:\n",
      "Mean: 0.70, Median 0.79, Std: 0.32, Min: 0.00, Max: 1.00\n"
     ]
    },
    {
     "data": {
      "image/png": "[encoded data removed]",
      "text/plain": [
       "<Figure size 432x288 with 1 Axes>"
      ]
     },
     "metadata": {
      "needs_background": "light"
     },
     "output_type": "display_data"
    },
    {
     "name": "stdout",
     "output_type": "stream",
     "text": [
      "Reading file: SAR_5m_intensity_vh.tif\n",
      "/home/nagellette-ws/negengec_code/pub1_rnn_model/data/SAR_5m_intensity_vh.tif\n",
      "Before pre-processing:\n",
      "Mean: 24110.28, Median 10135.73, Std: 505362.50, Min: 0.00, Max: 735086848.00\n",
      "After pre-processing:\n",
      "Mean: 0.24, Median 0.15, Std: 0.24, Min: 0.00, Max: 1.00\n"
     ]
    },
    {
     "data": {
      "image/png": "[encoded data removed]",
      "text/plain": [
       "<Figure size 432x288 with 1 Axes>"
      ]
     },
     "metadata": {
      "needs_background": "light"
     },
     "output_type": "display_data"
    },
    {
     "name": "stdout",
     "output_type": "stream",
     "text": [
      "Reading file: sentinel_B02_5m.tif\n",
      "/home/nagellette-ws/negengec_code/pub1_rnn_model/data/sentinel_B02_5m.tif\n",
      "Before pre-processing:\n",
      "Mean: 1561.77, Median 1536.00, Std: 242.78, Min: 0.00, Max: 19520.00\n",
      "After pre-processing:\n",
      "Mean: 0.16, Median 0.15, Std: 0.02, Min: 0.00, Max: 1.00\n"
     ]
    },
    {
     "data": {
      "image/png": "[encoded data removed]",
      "text/plain": [
       "<Figure size 432x288 with 1 Axes>"
      ]
     },
     "metadata": {
      "needs_background": "light"
     },
     "output_type": "display_data"
    },
    {
     "name": "stdout",
     "output_type": "stream",
     "text": [
      "Reading file: sentinel_B03_5m.tif\n",
      "/home/nagellette-ws/negengec_code/pub1_rnn_model/data/sentinel_B03_5m.tif\n",
      "Before pre-processing:\n",
      "Mean: 1667.46, Median 1650.00, Std: 255.71, Min: 0.00, Max: 18272.00\n",
      "After pre-processing:\n",
      "Mean: 0.17, Median 0.17, Std: 0.03, Min: 0.00, Max: 1.00\n"
     ]
    },
    {
     "data": {
      "image/png": "[encoded data removed]",
      "text/plain": [
       "<Figure size 432x288 with 1 Axes>"
      ]
     },
     "metadata": {
      "needs_background": "light"
     },
     "output_type": "display_data"
    },
    {
     "name": "stdout",
     "output_type": "stream",
     "text": [
      "Reading file: sentinel_B04_5m.tif\n",
      "/home/nagellette-ws/negengec_code/pub1_rnn_model/data/sentinel_B04_5m.tif\n",
      "Before pre-processing:\n",
      "Mean: 1730.96, Median 1722.00, Std: 299.50, Min: 0.00, Max: 17296.00\n",
      "After pre-processing:\n",
      "Mean: 0.17, Median 0.17, Std: 0.03, Min: 0.00, Max: 1.00\n"
     ]
    },
    {
     "data": {
      "image/png": "[encoded data removed]",
      "text/plain": [
       "<Figure size 432x288 with 1 Axes>"
      ]
     },
     "metadata": {
      "needs_background": "light"
     },
     "output_type": "display_data"
    },
    {
     "name": "stdout",
     "output_type": "stream",
     "text": [
      "Reading file: sentinel_B08_5m.tif\n",
      "/home/nagellette-ws/negengec_code/pub1_rnn_model/data/sentinel_B08_5m.tif\n",
      "Before pre-processing:\n",
      "Mean: 2069.14, Median 2084.00, Std: 402.26, Min: 0.00, Max: 16480.00\n",
      "After pre-processing:\n",
      "Mean: 0.21, Median 0.21, Std: 0.04, Min: 0.00, Max: 1.00\n"
     ]
    },
    {
     "data": {
      "image/png": "[encoded data removed]",
      "text/plain": [
       "<Figure size 432x288 with 1 Axes>"
      ]
     },
     "metadata": {
      "needs_background": "light"
     },
     "output_type": "display_data"
    },
    {
     "name": "stdout",
     "output_type": "stream",
     "text": [
      "Reading file: probe_aggregated_trajectory_count.tif\n",
      "/home/nagellette-ws/negengec_code/pub1_rnn_model/data/probe_aggregated_trajectory_count.tif\n",
      "Before pre-processing:\n",
      "Mean: 0.30, Median 0.00, Std: 4.91, Min: 0.00, Max: 5244.00\n",
      "After pre-processing:\n",
      "Mean: 0.00, Median 0.00, Std: 0.00, Min: 0.00, Max: 1.00\n"
     ]
    },
    {
     "data": {
      "image/png": "[encoded data removed]",
      "text/plain": [
       "<Figure size 432x288 with 1 Axes>"
      ]
     },
     "metadata": {
      "needs_background": "light"
     },
     "output_type": "display_data"
    },
    {
     "name": "stdout",
     "output_type": "stream",
     "text": [
      "Reading file: probe_aggregated_speed_avg.tif\n",
      "/home/nagellette-ws/negengec_code/pub1_rnn_model/data/probe_aggregated_speed_avg.tif\n",
      "Before pre-processing:\n",
      "Mean: 2.64, Median 0.00, Std: 1203.95, Min: -511.57, Max: 1551774.75\n",
      "After pre-processing:\n",
      "Mean: 0.00, Median 0.00, Std: 0.00, Min: 0.00, Max: 1.00\n"
     ]
    },
    {
     "data": {
      "image/png": "[encoded data removed]",
      "text/plain": [
       "<Figure size 432x288 with 1 Axes>"
      ]
     },
     "metadata": {
      "needs_background": "light"
     },
     "output_type": "display_data"
    },
    {
     "name": "stdout",
     "output_type": "stream",
     "text": [
      "Reading file: _bejing_full_projected_labels.tif\n",
      "/home/nagellette-ws/negengec_code/pub1_rnn_model/data/_bejing_full_projected_labels.tif\n",
      "Before pre-processing:\n",
      "Mean: 5.32, Median 0.00, Std: 36.46, Min: 0.00, Max: 255.00\n",
      "After pre-processing:\n",
      "Mean: 0.02, Median 0.00, Std: 0.14, Min: 0.00, Max: 1.00\n"
     ]
    },
    {
     "data": {
      "image/png": "[encoded data removed]",
      "text/plain": [
       "<Figure size 432x288 with 1 Axes>"
      ]
     },
     "metadata": {
      "needs_background": "light"
     },
     "output_type": "display_data"
    }
   ],
   "source": [
    "## empty list for\n",
    "rasters_np = []\n",
    "rasters_geo = []\n",
    "\n",
    "## iterate over file list and read the rasterfiles\n",
    "for index, file in enumerate(file_list):\n",
    "    print(\"Reading file: \" + file)\n",
    "    raster_np, raster_geo = read_raster(cwd + \"/data/\" + file, file_list_types[index])\n",
    "    print(\"After pre-processing:\")\n",
    "    print(\"Mean: {0:2.2f}, Median {1:2.2f}, Std: {2:2.2f}, Min: {3:2.2f}, Max: {4:2.2f}\".format(\n",
    "        np.mean(raster_np), np.median(raster_np), np.std(raster_np), np.min(raster_np), np.max(raster_np)))\n",
    "    \n",
    "    x = raster_np.flatten()\n",
    "    plt.hist(x, density=True, bins=100)\n",
    "    ax = plt.gca()\n",
    "    ax.set_xlim([0, 1.0])\n",
    "    ax.set_ylim([0, 5]) ## ignore some values to keep some visible\n",
    "    plt.show()\n",
    "\n",
    "    rasters_geo.append(raster_geo)\n",
    "    rasters_np.append(raster_np)"
   ]
  },
  {
   "cell_type": "code",
   "execution_count": null,
   "metadata": {},
   "outputs": [],
   "source": []
  }
 ],
 "metadata": {
  "kernelspec": {
   "display_name": "Python 3",
   "language": "python",
   "name": "python3"
  },
  "language_info": {
   "codemirror_mode": {
    "name": "ipython",
    "version": 3
   },
   "file_extension": ".py",
   "mimetype": "text/x-python",
   "name": "python",
   "nbconvert_exporter": "python",
   "pygments_lexer": "ipython3",
   "version": "3.6.6"
  }
 },
 "nbformat": 4,
 "nbformat_minor": 2
}
